{
  "nbformat": 4,
  "nbformat_minor": 0,
  "metadata": {
    "colab": {
      "provenance": []
    },
    "kernelspec": {
      "name": "python3",
      "display_name": "Python 3"
    },
    "language_info": {
      "name": "python"
    }
  },
  "cells": [
    {
      "cell_type": "markdown",
      "source": [
        "NAME: SAYALI DILIP DESHMUKH\n",
        "\n",
        "```\n",
        "\n",
        "```\n",
        "UTAID: 1001966628\n",
        "\n",
        "```\n",
        "\n",
        "```\n",
        "\n",
        "Exrea Credits Submission\n"
      ],
      "metadata": {
        "id": "rtmhmawWEnlN"
      }
    },
    {
      "cell_type": "markdown",
      "source": [
        "**TOPIC 1)OPERATORS**"
      ],
      "metadata": {
        "id": "phpE55BRfBsi"
      }
    },
    {
      "cell_type": "markdown",
      "source": [
        "1)Write a Python program to calculate the area of a rectangle using the length and width entered by the user. If either the length or the width is negative, display an error message and ask the user to re-enter the value."
      ],
      "metadata": {
        "id": "y9ZIah4-bxfd"
      }
    },
    {
      "cell_type": "code",
      "execution_count": null,
      "metadata": {
        "colab": {
          "base_uri": "https://localhost:8080/"
        },
        "id": "F9pEeo2GZGKG",
        "outputId": "d63ab113-5857-4282-a050-2d7efc18fa6f"
      },
      "outputs": [
        {
          "output_type": "stream",
          "name": "stdout",
          "text": [
            "Enter the length of the rectangle: -6\n",
            "Enter the width of the rectangle: -7\n",
            "Error: Length and width must be positive numbers.\n",
            "Enter the length of the rectangle: 6\n",
            "Enter the width of the rectangle: -4\n",
            "Error: Length and width must be positive numbers.\n",
            "Enter the length of the rectangle: 6\n",
            "Enter the width of the rectangle: 4\n",
            "The area of the rectangle is: 24.0\n"
          ]
        }
      ],
      "source": [
        "# Get user input for length and width of the rectangle\n",
        "length = float(input(\"Enter the length of the rectangle: \"))\n",
        "width = float(input(\"Enter the width of the rectangle: \"))\n",
        "\n",
        "# Check for negative values\n",
        "while length < 0 or width < 0:\n",
        "    print(\"Error: Length and width must be positive numbers.\")\n",
        "    length = float(input(\"Enter the length of the rectangle: \"))\n",
        "    width = float(input(\"Enter the width of the rectangle: \"))\n",
        "\n",
        "# Calculate the area of the rectangle\n",
        "area = length * width\n",
        "\n",
        "# Display the result\n",
        "print(\"The area of the rectangle is:\", area)\n"
      ]
    },
    {
      "cell_type": "markdown",
      "source": [
        "2)Write a Python program to check if a given number is even or odd. Implement this program using the modulus operator."
      ],
      "metadata": {
        "id": "wTxoKsqYcz9A"
      }
    },
    {
      "cell_type": "code",
      "source": [
        "# Get input from user\n",
        "num = int(input(\"Enter a number: \"))\n",
        "\n",
        "# Check if number is even or odd\n",
        "if num % 2 == 0:\n",
        "    print(num, \"is even\")\n",
        "else:\n",
        "    print(num, \"is odd\")"
      ],
      "metadata": {
        "colab": {
          "base_uri": "https://localhost:8080/"
        },
        "id": "Rqk-go9feMyD",
        "outputId": "31ced5de-ac75-4951-9018-4b3236c85c87"
      },
      "execution_count": null,
      "outputs": [
        {
          "output_type": "stream",
          "name": "stdout",
          "text": [
            "Enter a number: 457864\n",
            "457864 is even\n"
          ]
        }
      ]
    },
    {
      "cell_type": "markdown",
      "source": [
        "3)Write a Python program to calculate the area of a rectangle using the multiplication operator. The program should take in the length and width of the rectangle as input from the user."
      ],
      "metadata": {
        "id": "UW1onLREeWTw"
      }
    },
    {
      "cell_type": "code",
      "source": [
        "# Get input from user\n",
        "length = float(input(\"Enter the length of the rectangle: \"))\n",
        "width = float(input(\"Enter the width of the rectangle: \"))\n",
        "\n",
        "# Calculate area of rectangle\n",
        "area = length * width\n",
        "\n",
        "# Print area of rectangle\n",
        "print(\"The area of the rectangle is\", area)"
      ],
      "metadata": {
        "colab": {
          "base_uri": "https://localhost:8080/"
        },
        "id": "CXmh-5OoecGa",
        "outputId": "3ea08718-6c09-408e-9ba9-16100347e559"
      },
      "execution_count": null,
      "outputs": [
        {
          "output_type": "stream",
          "name": "stdout",
          "text": [
            "Enter the length of the rectangle: 20\n",
            "Enter the width of the rectangle: 12\n",
            "The area of the rectangle is 240.0\n"
          ]
        }
      ]
    },
    {
      "cell_type": "markdown",
      "source": [
        "4)Write a Python program to concatenate two strings using the + operator. The program should take in two strings as input from the user."
      ],
      "metadata": {
        "id": "LNh4-sQoeij5"
      }
    },
    {
      "cell_type": "code",
      "source": [
        "# Get input from user\n",
        "string1 = input(\"Enter the first string: \")\n",
        "string2 = input(\"Enter the second string: \")\n",
        "\n",
        "# Concatenate the strings using the + operator\n",
        "result = string1 + \" \" + string2\n",
        "\n",
        "# Print the concatenated string\n",
        "print(\"The concatenated string is:\", result)"
      ],
      "metadata": {
        "colab": {
          "base_uri": "https://localhost:8080/"
        },
        "id": "nF0ai6g4eypx",
        "outputId": "ce90b240-617d-471a-e1d2-cfa881427b93"
      },
      "execution_count": null,
      "outputs": [
        {
          "output_type": "stream",
          "name": "stdout",
          "text": [
            "Enter the first string: hey\n",
            "Enter the second string: there\n",
            "The concatenated string is: hey there\n"
          ]
        }
      ]
    },
    {
      "cell_type": "markdown",
      "source": [
        "**TOPIC 2)If-Elif-Else**"
      ],
      "metadata": {
        "id": "wJqg-dwPfO2j"
      }
    },
    {
      "cell_type": "markdown",
      "source": [
        "1)Write a Python program to check if a given number is positive, negative, or zero. Implement this program using if-elif-else."
      ],
      "metadata": {
        "id": "rDIeJDFPfelQ"
      }
    },
    {
      "cell_type": "code",
      "source": [
        "# Get input from user\n",
        "num = float(input(\"Enter a number: \"))\n",
        "\n",
        "# Check if number is positive, negative, or zero\n",
        "if num > 0:\n",
        "    print(num, \"is positive\")\n",
        "elif num == 0:\n",
        "    print(\"The number is zero\")\n",
        "else:\n",
        "    print(num, \"is negative\")\n"
      ],
      "metadata": {
        "colab": {
          "base_uri": "https://localhost:8080/"
        },
        "id": "RRPEfI8Nfk-l",
        "outputId": "fb091c20-ce71-4b76-f673-378aea2ca97d"
      },
      "execution_count": null,
      "outputs": [
        {
          "output_type": "stream",
          "name": "stdout",
          "text": [
            "Enter a number: -90\n",
            "-90.0 is negative\n"
          ]
        }
      ]
    },
    {
      "cell_type": "markdown",
      "source": [
        "2)Write a Python program to check if a given year is a leap year. Implement this program using if-elif-else."
      ],
      "metadata": {
        "id": "B1B1s6MAft5X"
      }
    },
    {
      "cell_type": "code",
      "source": [
        "# Get input from user\n",
        "year = int(input(\"Enter a year: \"))\n",
        "\n",
        "# Check if year is a leap year\n",
        "if year % 4 == 0:\n",
        "    if year % 100 == 0:\n",
        "        if year % 400 == 0:\n",
        "            print(year, \"is a leap year\")\n",
        "        else:\n",
        "            print(year, \"is not a leap year\")\n",
        "    else:\n",
        "        print(year, \"is a leap year\")\n",
        "else:\n",
        "    print(year, \"is not a leap year\")\n"
      ],
      "metadata": {
        "colab": {
          "base_uri": "https://localhost:8080/"
        },
        "id": "pAssNQEjfvKx",
        "outputId": "610f12f4-2ce4-4423-d8a1-9a2773439610"
      },
      "execution_count": null,
      "outputs": [
        {
          "output_type": "stream",
          "name": "stdout",
          "text": [
            "Enter a year: 2001\n",
            "2001 is not a leap year\n"
          ]
        }
      ]
    },
    {
      "cell_type": "markdown",
      "source": [
        "3)Write a Python program to determine the grade of a student based on their test score. The program should take in the test score as input from the user and implement the following grading system:\n",
        "\n",
        "A: 90-100\n",
        "B: 80-89\n",
        "C: 70-79\n",
        "D: 60-69\n",
        "F: <60\n",
        "Implement this program using if-elif-else."
      ],
      "metadata": {
        "id": "PuK_Y-DnhbMx"
      }
    },
    {
      "cell_type": "code",
      "source": [
        "# Get input from user\n",
        "score = int(input(\"Enter the test score: \"))\n",
        "\n",
        "# Determine the grade based on the test score\n",
        "if score >= 90 and score <= 100:\n",
        "    print(\"The grade is A\")\n",
        "elif score >= 80 and score < 90:\n",
        "    print(\"The grade is B\")\n",
        "elif score >= 70 and score < 80:\n",
        "    print(\"The grade is C\")\n",
        "elif score >= 60 and score < 70:\n",
        "    print(\"The grade is D\")\n",
        "else:\n",
        "    print(\"The grade is F\")\n"
      ],
      "metadata": {
        "colab": {
          "base_uri": "https://localhost:8080/"
        },
        "id": "vqppwpqphhnE",
        "outputId": "f9fd80f8-8dc6-4a19-9657-974726018a6c"
      },
      "execution_count": null,
      "outputs": [
        {
          "output_type": "stream",
          "name": "stdout",
          "text": [
            "Enter the test score: 89\n",
            "The grade is B\n"
          ]
        }
      ]
    },
    {
      "cell_type": "markdown",
      "source": [
        "**TOPIC 3)While Loop:**"
      ],
      "metadata": {
        "id": "3OWnQ05xh0aR"
      }
    },
    {
      "cell_type": "markdown",
      "source": [
        "1)Write a Python program to print all even numbers from 1 to 50 using a while loop."
      ],
      "metadata": {
        "id": "rZVEXPvKiQaI"
      }
    },
    {
      "cell_type": "code",
      "source": [
        "# Initialize the counter\n",
        "num = 1\n",
        "\n",
        "# Loop through numbers 1 to 50\n",
        "while num <= 50:\n",
        "    # Check if number is even\n",
        "    if num % 2 == 0:\n",
        "        print(num)\n",
        "    # Increment the counter\n",
        "    num += 1\n"
      ],
      "metadata": {
        "colab": {
          "base_uri": "https://localhost:8080/"
        },
        "id": "nfCdPxc8iUHt",
        "outputId": "92d14992-f230-41dc-99c6-7f1aa2369337"
      },
      "execution_count": null,
      "outputs": [
        {
          "output_type": "stream",
          "name": "stdout",
          "text": [
            "2\n",
            "4\n",
            "6\n",
            "8\n",
            "10\n",
            "12\n",
            "14\n",
            "16\n",
            "18\n",
            "20\n",
            "22\n",
            "24\n",
            "26\n",
            "28\n",
            "30\n",
            "32\n",
            "34\n",
            "36\n",
            "38\n",
            "40\n",
            "42\n",
            "44\n",
            "46\n",
            "48\n",
            "50\n"
          ]
        }
      ]
    },
    {
      "cell_type": "markdown",
      "source": [
        "2)Write a Python program to calculate the factorial of a given number using a while loop."
      ],
      "metadata": {
        "id": "420M-tsNiele"
      }
    },
    {
      "cell_type": "code",
      "source": [
        "# Get input from user\n",
        "num = int(input(\"Enter a number: \"))\n",
        "\n",
        "# Initialize the factorial and the counter\n",
        "factorial = 1\n",
        "counter = 1\n",
        "\n",
        "# Loop through numbers 1 to num\n",
        "while counter <= num:\n",
        "    # Multiply the factorial by the counter\n",
        "    factorial *= counter\n",
        "    # Increment the counter\n",
        "    counter += 1\n",
        "\n",
        "# Print the factorial\n",
        "print(\"The factorial of\", num, \"is\", factorial)\n"
      ],
      "metadata": {
        "colab": {
          "base_uri": "https://localhost:8080/"
        },
        "id": "DOOSUZNLihSt",
        "outputId": "d7b78f92-1e4b-4f2f-9291-c7a9d1247a76"
      },
      "execution_count": null,
      "outputs": [
        {
          "output_type": "stream",
          "name": "stdout",
          "text": [
            "Enter a number: 7\n",
            "The factorial of 7 is 5040\n"
          ]
        }
      ]
    },
    {
      "cell_type": "markdown",
      "source": [
        "3)Write a Python program to find the sum of all natural numbers between 1 to n using a while loop."
      ],
      "metadata": {
        "id": "6oif8VGviob-"
      }
    },
    {
      "cell_type": "code",
      "source": [
        "# Get input from user\n",
        "n = int(input(\"Enter a number: \"))\n",
        "\n",
        "# Initialize the sum and the counter\n",
        "total = 0\n",
        "counter = 1\n",
        "\n",
        "# Loop through numbers 1 to n\n",
        "while counter <= n:\n",
        "    # Add the counter to the sum\n",
        "    total += counter\n",
        "    # Increment the counter\n",
        "    counter += 1\n",
        "\n",
        "# Print the sum\n",
        "print(\"The sum of all natural numbers between 1 to\", n, \"is\", total)\n"
      ],
      "metadata": {
        "colab": {
          "base_uri": "https://localhost:8080/"
        },
        "id": "yiWdV1NRirRl",
        "outputId": "f2b59de7-7c9b-4785-98f0-dc4c07c23841"
      },
      "execution_count": null,
      "outputs": [
        {
          "output_type": "stream",
          "name": "stdout",
          "text": [
            "Enter a number: 20\n",
            "The sum of all natural numbers between 1 to 20 is 210\n"
          ]
        }
      ]
    },
    {
      "cell_type": "markdown",
      "source": [
        "**TOPIC 4)For Loop**"
      ],
      "metadata": {
        "id": "q3WQlgjdiwRe"
      }
    },
    {
      "cell_type": "markdown",
      "source": [
        "1)Write a Python program to print all the even numbers from 1 to 20 using a for loop.\n"
      ],
      "metadata": {
        "id": "KxnFeDPkjqvw"
      }
    },
    {
      "cell_type": "code",
      "source": [
        "# Initialize variable \"num\" to 1\n",
        "num = 1\n",
        "\n",
        "# Iterate through the numbers from 1 to 20\n",
        "for i in range(1, 21):\n",
        "    # Check if the current number is even\n",
        "    if num % 2 == 0:\n",
        "        # Print the even number\n",
        "        print(num)\n",
        "    # Increment num by 1\n",
        "    num += 1\n"
      ],
      "metadata": {
        "colab": {
          "base_uri": "https://localhost:8080/"
        },
        "id": "XCLCtwY0jrnQ",
        "outputId": "726fd5f2-105b-4cae-e9b3-8d3d812d26a4"
      },
      "execution_count": 6,
      "outputs": [
        {
          "output_type": "stream",
          "name": "stdout",
          "text": [
            "2\n",
            "4\n",
            "6\n",
            "8\n",
            "10\n",
            "12\n",
            "14\n",
            "16\n",
            "18\n",
            "20\n"
          ]
        }
      ]
    },
    {
      "cell_type": "markdown",
      "source": [
        "2)Write a program to print the multiplication table of a given integer n up to 10.\n",
        "\n",
        "\n",
        "\n"
      ],
      "metadata": {
        "id": "ciGGMBE9nPee"
      }
    },
    {
      "cell_type": "code",
      "source": [
        "n = int(input(\"Enter a number: \"))\n",
        "\n",
        "# using for loop to print multiplication table up to 10\n",
        "for i in range(1, 11):\n",
        "    print(n, \"x\", i, \"=\", n*i)\n"
      ],
      "metadata": {
        "colab": {
          "base_uri": "https://localhost:8080/"
        },
        "id": "PhatQvdjnQzw",
        "outputId": "7415b246-0153-4bf4-b783-5495ea1ba525"
      },
      "execution_count": null,
      "outputs": [
        {
          "output_type": "stream",
          "name": "stdout",
          "text": [
            "Enter a number: 2\n",
            "2 x 1 = 2\n",
            "2 x 2 = 4\n",
            "2 x 3 = 6\n",
            "2 x 4 = 8\n",
            "2 x 5 = 10\n",
            "2 x 6 = 12\n",
            "2 x 7 = 14\n",
            "2 x 8 = 16\n",
            "2 x 9 = 18\n",
            "2 x 10 = 20\n"
          ]
        }
      ]
    },
    {
      "cell_type": "markdown",
      "source": [
        "3)Write a program that accepts an integer n as input and prints the sum of all numbers from 1 to n.\n",
        "\n"
      ],
      "metadata": {
        "id": "wXECTL-hnhSg"
      }
    },
    {
      "cell_type": "code",
      "source": [
        "n = int(input(\"Enter a number: \"))\n",
        "sum = 0\n",
        "\n",
        "# using for loop to add numbers from 1 to n\n",
        "for i in range(1, n+1):\n",
        "    sum += i\n",
        "\n",
        "print(\"The sum of all numbers from 1 to\", n, \"is:\", sum)\n"
      ],
      "metadata": {
        "colab": {
          "base_uri": "https://localhost:8080/"
        },
        "id": "YT1GDjG3njxd",
        "outputId": "c5102a61-731e-4494-94d7-2e6f14fc6a9a"
      },
      "execution_count": null,
      "outputs": [
        {
          "output_type": "stream",
          "name": "stdout",
          "text": [
            "Enter a number: 4\n",
            "The sum of all numbers from 1 to 4 is: 10\n"
          ]
        }
      ]
    },
    {
      "cell_type": "markdown",
      "source": [
        "**TOPIC 5) Functions(Lambda, filter map)**"
      ],
      "metadata": {
        "id": "Q0sbHviZnrIF"
      }
    },
    {
      "cell_type": "markdown",
      "source": [
        "1)Write a program to find the square of a given number using a lambda function.\n",
        "\n"
      ],
      "metadata": {
        "id": "z7FGFkxVn6mo"
      }
    },
    {
      "cell_type": "code",
      "source": [
        "square = lambda x: x*x\n",
        "n = int(input(\"Enter a number: \"))\n",
        "print(\"The square of\", n, \"is:\", square(n))\n"
      ],
      "metadata": {
        "colab": {
          "base_uri": "https://localhost:8080/"
        },
        "id": "r5PuwBE0n_zi",
        "outputId": "62ba4f26-c8c1-473d-b659-024a69d5c6e4"
      },
      "execution_count": null,
      "outputs": [
        {
          "output_type": "stream",
          "name": "stdout",
          "text": [
            "Enter a number: 4\n",
            "The square of 4 is: 16\n"
          ]
        }
      ]
    },
    {
      "cell_type": "markdown",
      "source": [
        "2)Write a program to filter out all even numbers from a list using the filter() function.\n",
        "\n"
      ],
      "metadata": {
        "id": "Utb7uV7RoD0-"
      }
    },
    {
      "cell_type": "code",
      "source": [
        "def is_even(n):\n",
        "    return n % 2 == 0\n",
        "\n",
        "numbers = [1, 2, 3, 4, 5, 6, 7, 8, 9, 10]\n",
        "even_numbers = list(filter(is_even, numbers))\n",
        "print(\"Even numbers in the list:\", even_numbers)\n"
      ],
      "metadata": {
        "colab": {
          "base_uri": "https://localhost:8080/"
        },
        "id": "jAiZ85iYoG_s",
        "outputId": "c1f2e796-642f-447d-c65f-a4fe53eb312b"
      },
      "execution_count": null,
      "outputs": [
        {
          "output_type": "stream",
          "name": "stdout",
          "text": [
            "Even numbers in the list: [2, 4, 6, 8, 10]\n"
          ]
        }
      ]
    },
    {
      "cell_type": "markdown",
      "source": [
        "3)Write a program to double all the values in a list using the map() function.\n",
        "\n"
      ],
      "metadata": {
        "id": "bF8Y7spBoLoX"
      }
    },
    {
      "cell_type": "code",
      "source": [
        "def double(n):\n",
        "    return n * 2\n",
        "\n",
        "numbers = [1, 2, 3, 4, 5]\n",
        "double_numbers = list(map(double, numbers))\n",
        "print(\"Doubled numbers in the list:\", double_numbers)\n"
      ],
      "metadata": {
        "colab": {
          "base_uri": "https://localhost:8080/"
        },
        "id": "QE5UqpK7oMqt",
        "outputId": "1fea3921-2d2a-4c59-e857-cfaec71efe47"
      },
      "execution_count": null,
      "outputs": [
        {
          "output_type": "stream",
          "name": "stdout",
          "text": [
            "Doubled numbers in the list: [2, 4, 6, 8, 10]\n"
          ]
        }
      ]
    },
    {
      "cell_type": "markdown",
      "source": [
        "**TOPIC 6)Exception Handling**"
      ],
      "metadata": {
        "id": "GVdejru6oQLG"
      }
    },
    {
      "cell_type": "markdown",
      "source": [
        "1)Write a program that accepts two numbers as input and performs division, but handles the ZeroDivisionError exception if the second number is 0."
      ],
      "metadata": {
        "id": "TzaG4pzEo1Mz"
      }
    },
    {
      "cell_type": "code",
      "source": [
        "try:\n",
        "    num1 = int(input(\"Enter the numerator: \"))\n",
        "    num2 = int(input(\"Enter the denominator: \"))\n",
        "    result = num1 / num2\n",
        "    print(\"The result of division is:\", result)\n",
        "except ZeroDivisionError:\n",
        "    print(\"Error: Cannot divide by zero.\")\n"
      ],
      "metadata": {
        "colab": {
          "base_uri": "https://localhost:8080/"
        },
        "id": "oG1Yy7Y6o2OE",
        "outputId": "b0c75a00-d93f-48ac-d610-9bd99a5aab6f"
      },
      "execution_count": null,
      "outputs": [
        {
          "output_type": "stream",
          "name": "stdout",
          "text": [
            "Enter the numerator: 12\n",
            "Enter the denominator: 120\n",
            "The result of division is: 0.1\n"
          ]
        }
      ]
    },
    {
      "cell_type": "markdown",
      "source": [
        "2)Write a program that reads in a file specified by the user and prints out its contents. However, if the file does not exist, the program should catch the FileNotFoundError exception and print an error message instead.\n",
        "\n",
        "**bold text**"
      ],
      "metadata": {
        "id": "MaqvRuFSpFGW"
      }
    },
    {
      "cell_type": "code",
      "source": [
        "# Get filename from user\n",
        "filename = input(\"Enter filename: \")\n",
        "\n",
        "try:\n",
        "    # Open file and print contents\n",
        "    with open(filename, 'r') as f:\n",
        "        contents = f.read()\n",
        "        print(contents)\n",
        "except FileNotFoundError:\n",
        "    # Handle file not found error\n",
        "    print(\"Error: file not found\")\n"
      ],
      "metadata": {
        "colab": {
          "base_uri": "https://localhost:8080/"
        },
        "id": "2UGn9HCRs-EH",
        "outputId": "93b58276-1a79-4d86-f03a-e7976f9929b2"
      },
      "execution_count": null,
      "outputs": [
        {
          "output_type": "stream",
          "name": "stdout",
          "text": [
            "Enter filename: sayali\n",
            "Error: file not found\n"
          ]
        }
      ]
    },
    {
      "cell_type": "markdown",
      "source": [
        "3)Write a program that accepts a string as input and converts it to an integer, but handles the ValueError exception if the input cannot be converted."
      ],
      "metadata": {
        "id": "5vDiKjU-pNyk"
      }
    },
    {
      "cell_type": "code",
      "source": [
        "try:\n",
        "    num = int(input(\"Enter a number: \"))\n",
        "    print(\"The entered number is:\", num)\n",
        "except ValueError:\n",
        "    print(\"Error: Input is not a valid integer.\")\n",
        "\n"
      ],
      "metadata": {
        "colab": {
          "base_uri": "https://localhost:8080/"
        },
        "id": "jPDNb0dVpPJz",
        "outputId": "dadfb350-06d5-449f-b3ca-94be42ac44ce"
      },
      "execution_count": null,
      "outputs": [
        {
          "output_type": "stream",
          "name": "stdout",
          "text": [
            "Enter a number: saturn1231\n",
            "Error: Input is not a valid integer.\n"
          ]
        }
      ]
    },
    {
      "cell_type": "markdown",
      "source": [
        "**TOPIC 7)Regular Expression**\n"
      ],
      "metadata": {
        "id": "cBYCSQCtpdoo"
      }
    },
    {
      "cell_type": "markdown",
      "source": [
        "1)Write a program to validate an email address using regular expressions.\n",
        "\n"
      ],
      "metadata": {
        "id": "xP02oCDzphse"
      }
    },
    {
      "cell_type": "code",
      "source": [
        "import re\n",
        "\n",
        "email = input(\"Enter an email address: \")\n",
        "pattern = r'^[a-zA-Z0-9._%+-]+@[a-zA-Z0-9.-]+\\.[a-zA-Z]{2,}$'\n",
        "\n",
        "if re.match(pattern, email):\n",
        "    print(\"Valid email address.\")\n",
        "else:\n",
        "    print(\"Invalid email address.\")\n"
      ],
      "metadata": {
        "colab": {
          "base_uri": "https://localhost:8080/"
        },
        "id": "uSONDoH5pj7t",
        "outputId": "ee645e7a-ee00-461d-9dbb-633d015ec6a7"
      },
      "execution_count": null,
      "outputs": [
        {
          "output_type": "stream",
          "name": "stdout",
          "text": [
            "Enter an email address: sayali@gmail.com\n",
            "Valid email address.\n"
          ]
        }
      ]
    },
    {
      "cell_type": "markdown",
      "source": [
        "2)Write a program to replace all occurrences of a word in a string with another word using regular expressions."
      ],
      "metadata": {
        "id": "BZ1fkop8pxCR"
      }
    },
    {
      "cell_type": "code",
      "source": [
        "import re\n",
        "\n",
        "string = \"The quick brown fox jumps over the lazy dog.\"\n",
        "old_word = \"fox\"\n",
        "new_word = \"cat\"\n",
        "\n",
        "# using re.sub() function to replace old_word with new_word\n",
        "new_string = re.sub(old_word, new_word, string)\n",
        "print(\"New string:\", new_string)\n"
      ],
      "metadata": {
        "colab": {
          "base_uri": "https://localhost:8080/"
        },
        "id": "PGvD1go2pzjl",
        "outputId": "1172317a-19d8-48b6-890e-e74bb9f04c7f"
      },
      "execution_count": null,
      "outputs": [
        {
          "output_type": "stream",
          "name": "stdout",
          "text": [
            "New string: The quick brown cat jumps over the lazy dog.\n"
          ]
        }
      ]
    },
    {
      "cell_type": "markdown",
      "source": [
        "3)Write a program that takes a string input from the user and uses a regular expression to check if the string contains only alphanumeric characters.\n",
        "\n"
      ],
      "metadata": {
        "id": "YHFi-Pfkp_w9"
      }
    },
    {
      "cell_type": "code",
      "source": [
        "import re\n",
        "\n",
        "# Get input from user\n",
        "s = input(\"Enter a string: \")\n",
        "\n",
        "# Define regular expression\n",
        "regex = re.compile('^[a-zA-Z0-9]+$')\n",
        "\n",
        "# Check if string matches regular expression\n",
        "if regex.match(s):\n",
        "    print(\"String contains only alphanumeric characters\")\n",
        "else:\n",
        "    print(\"String does not contain only alphanumeric characters\")\n"
      ],
      "metadata": {
        "colab": {
          "base_uri": "https://localhost:8080/"
        },
        "id": "it2riEDwqA7E",
        "outputId": "b89b91e6-363c-4fd0-923c-e11091438ef8"
      },
      "execution_count": null,
      "outputs": [
        {
          "output_type": "stream",
          "name": "stdout",
          "text": [
            "Enter a string: -=-=-\n",
            "String does not contain only alphanumeric characters\n"
          ]
        }
      ]
    },
    {
      "cell_type": "markdown",
      "source": [
        "**TOPIC 8)List**"
      ],
      "metadata": {
        "id": "K_JFajhitv4i"
      }
    },
    {
      "cell_type": "markdown",
      "source": [
        "1)Write a Python program to sum all the items in a list."
      ],
      "metadata": {
        "id": "-YY0cHIpxKai"
      }
    },
    {
      "cell_type": "code",
      "source": [
        "def sum_list(items):\n",
        "    sum_numbers = 0\n",
        "    for x in items:\n",
        "        sum_numbers += x\n",
        "    return sum_numbers\n",
        "print(sum_list([1,2,-8]))\n"
      ],
      "metadata": {
        "colab": {
          "base_uri": "https://localhost:8080/"
        },
        "id": "h8TO-zMixAZ-",
        "outputId": "2876a13f-5393-4cd3-9f34-91ebffc0a891"
      },
      "execution_count": null,
      "outputs": [
        {
          "output_type": "stream",
          "name": "stdout",
          "text": [
            "-5\n"
          ]
        }
      ]
    },
    {
      "cell_type": "markdown",
      "source": [
        "2)Write a Python program to get the smallest number from a list."
      ],
      "metadata": {
        "id": "j3WCEb9xxPpT"
      }
    },
    {
      "cell_type": "code",
      "source": [
        "def smallest_num_in_list( list ):\n",
        "    min = list[ 0 ]\n",
        "    for a in list:\n",
        "        if a < min:\n",
        "            min = a\n",
        "    return min\n",
        "print(smallest_num_in_list([1, 2, -8, 0]))\n"
      ],
      "metadata": {
        "colab": {
          "base_uri": "https://localhost:8080/"
        },
        "id": "9QDKifY8xZ13",
        "outputId": "621079d1-9046-4247-b02a-030783ab1707"
      },
      "execution_count": null,
      "outputs": [
        {
          "output_type": "stream",
          "name": "stdout",
          "text": [
            "-8\n"
          ]
        }
      ]
    },
    {
      "cell_type": "markdown",
      "source": [
        "3)Write a Python program to get the largest number from a list."
      ],
      "metadata": {
        "id": "KNWBUp8Txj5Q"
      }
    },
    {
      "cell_type": "code",
      "source": [
        "def max_num_in_list( list ):\n",
        "    max = list[ 0 ]\n",
        "    for a in list:\n",
        "        if a > max:\n",
        "            max = a\n",
        "    return max\n",
        "print(max_num_in_list([1, 2, -8, 0]))\n"
      ],
      "metadata": {
        "colab": {
          "base_uri": "https://localhost:8080/"
        },
        "id": "R1z7q76Hxndn",
        "outputId": "3a1a7f2d-9083-4e28-b875-87a1d0c46c8a"
      },
      "execution_count": null,
      "outputs": [
        {
          "output_type": "stream",
          "name": "stdout",
          "text": [
            "2\n"
          ]
        }
      ]
    },
    {
      "cell_type": "markdown",
      "source": [
        "**TOPIC 9)Dictionary**"
      ],
      "metadata": {
        "id": "7c12USBKxweb"
      }
    },
    {
      "cell_type": "markdown",
      "source": [
        "1)Write a function that takes a list of strings as input and returns a dictionary where the keys are the unique elements of the list and the values are the number of times each element appears in the list.Write a function that takes a list of strings as input and returns a dictionary where the keys are the unique elements of the list and the values are the number of times each element appears in the list."
      ],
      "metadata": {
        "id": "cQrHnJ3P0UMu"
      }
    },
    {
      "cell_type": "code",
      "source": [
        "def count_elements(list_of_strings):\n",
        "    \"\"\"\n",
        "    This function takes a list of strings as input and returns a dictionary where the keys are the unique elements of the list\n",
        "    and the values are the number of times each element appears in the list.\n",
        "    \"\"\"\n",
        "    dict_of_counts = {}\n",
        "    for element in list_of_strings:\n",
        "        if element in dict_of_counts:\n",
        "            dict_of_counts[element] += 1\n",
        "        else:\n",
        "            dict_of_counts[element] = 1\n",
        "    return dict_of_counts\n",
        "\n",
        "# Test the function with an example input\n",
        "list_of_strings = ['apple', 'orange', 'banana', 'orange', 'apple']\n",
        "print(count_elements(list_of_strings)) \n"
      ],
      "metadata": {
        "colab": {
          "base_uri": "https://localhost:8080/"
        },
        "id": "nnKf2sy90VjH",
        "outputId": "d93cc7ce-e5ed-4669-a93e-66569f0ec0dc"
      },
      "execution_count": null,
      "outputs": [
        {
          "output_type": "stream",
          "name": "stdout",
          "text": [
            "{'apple': 2, 'orange': 2, 'banana': 1}\n"
          ]
        }
      ]
    },
    {
      "cell_type": "markdown",
      "source": [
        "2)Write a function that takes two lists of equal length as input and returns a dictionary where the keys are the elements of the first list and the values are the corresponding elements of the second list."
      ],
      "metadata": {
        "id": "MMvZfBnX0dWL"
      }
    },
    {
      "cell_type": "code",
      "source": [
        "def create_dictionary(list1, list2):\n",
        "    \"\"\"\n",
        "    This function takes two lists of equal length as input and returns a dictionary where the keys are the elements of the first list\n",
        "    and the values are the corresponding elements of the second list.\n",
        "    \"\"\"\n",
        "    dict1 = {}\n",
        "    for i in range(len(list1)):\n",
        "        dict1[list1[i]] = list2[i]\n",
        "    return dict1\n",
        "\n",
        "# Test the function with an example input\n",
        "list1 = [1, 2, 3]\n",
        "list2 = ['one', 'two', 'three']\n",
        "print(create_dictionary(list1, list2)) "
      ],
      "metadata": {
        "colab": {
          "base_uri": "https://localhost:8080/"
        },
        "id": "UciEhxQv0hm3",
        "outputId": "66968867-a5ef-46e0-fd64-86c12f644a2c"
      },
      "execution_count": null,
      "outputs": [
        {
          "output_type": "stream",
          "name": "stdout",
          "text": [
            "{1: 'one', 2: 'two', 3: 'three'}\n"
          ]
        }
      ]
    },
    {
      "cell_type": "markdown",
      "source": [
        "3)Write a function that takes a dictionary as input and returns a new dictionary with the keys and values reversed."
      ],
      "metadata": {
        "id": "zHkG1naD0oIM"
      }
    },
    {
      "cell_type": "code",
      "source": [
        "def reverse_dict(input_dict):\n",
        "    \"\"\"\n",
        "    This function takes a dictionary as input and returns a new dictionary with the keys and values reversed.\n",
        "    \"\"\"\n",
        "    return {v: k for k, v in input_dict.items()}\n",
        "\n",
        "# Test the function with an example input\n",
        "input_dict = {'apple': 2, 'orange': 3, 'banana': 1}\n",
        "print(reverse_dict(input_dict)) "
      ],
      "metadata": {
        "colab": {
          "base_uri": "https://localhost:8080/"
        },
        "id": "9otYSCo_0qkv",
        "outputId": "71edcc62-37cd-4c0d-d173-cf88ed046ddb"
      },
      "execution_count": null,
      "outputs": [
        {
          "output_type": "stream",
          "name": "stdout",
          "text": [
            "{2: 'apple', 3: 'orange', 1: 'banana'}\n"
          ]
        }
      ]
    },
    {
      "cell_type": "markdown",
      "source": [
        "**TOPIC 10)SET**"
      ],
      "metadata": {
        "id": "hbuJg5lX08P2"
      }
    },
    {
      "cell_type": "markdown",
      "source": [
        "1)Write a function in Python that takes a list of integers and returns a set of unique numbers from the list."
      ],
      "metadata": {
        "id": "fa_z6-VG2fn_"
      }
    },
    {
      "cell_type": "code",
      "source": [
        "def unique_numbers(numbers):\n",
        "    \"\"\"\n",
        "    This function takes a list of integers as input and returns a set of unique numbers.\n",
        "    \"\"\"\n",
        "    if not isinstance(numbers, list):  # Check if the input is a list\n",
        "        raise TypeError(\"Input must be a list of integers\")\n",
        "    return set(numbers)  # Return a set of unique numbers\n",
        "\n",
        "# Test the function\n",
        "print(unique_numbers([1, 2, 3, 4, 5, 5, 4, 3, 2, 1]))  "
      ],
      "metadata": {
        "colab": {
          "base_uri": "https://localhost:8080/"
        },
        "id": "Y83Tuc5I2cfO",
        "outputId": "344d1ee3-3519-4210-af1e-2508afb64292"
      },
      "execution_count": null,
      "outputs": [
        {
          "output_type": "stream",
          "name": "stdout",
          "text": [
            "{1, 2, 3, 4, 5}\n"
          ]
        }
      ]
    },
    {
      "cell_type": "markdown",
      "source": [
        "2)Write a function in Python that takes two sets and returns a set containing elements that are present in both sets."
      ],
      "metadata": {
        "id": "sZS-6PD92ju8"
      }
    },
    {
      "cell_type": "code",
      "source": [
        "def common_elements(set1, set2):\n",
        "    \"\"\"\n",
        "    This function takes two sets as input and returns a set of common elements.\n",
        "    \"\"\"\n",
        "    if not isinstance(set1, set) or not isinstance(set2, set):  # Check if the inputs are sets\n",
        "        raise TypeError(\"Inputs must be sets\")\n",
        "    return set1.intersection(set2)  # Return a set of common elements\n",
        "\n",
        "# Test the function\n",
        "set1 = {1, 2, 3, 4, 5}\n",
        "set2 = {4, 5, 6, 7, 8}\n",
        "print(common_elements(set1, set2))  \n"
      ],
      "metadata": {
        "colab": {
          "base_uri": "https://localhost:8080/"
        },
        "id": "N4zicgNp2m6d",
        "outputId": "55de422e-dc0d-4d52-e31f-90eb66cc2335"
      },
      "execution_count": null,
      "outputs": [
        {
          "output_type": "stream",
          "name": "stdout",
          "text": [
            "{4, 5}\n"
          ]
        }
      ]
    },
    {
      "cell_type": "markdown",
      "source": [
        "3)Write a function in Python that takes a set and an integer n, and returns a set containing elements that are greater than or equal to n."
      ],
      "metadata": {
        "id": "9Jo0VA9n2pTx"
      }
    },
    {
      "cell_type": "code",
      "source": [
        "def greater_than_n(s, n):\n",
        "    \"\"\"\n",
        "    This function takes a set and an integer as input and returns a set of elements that are greater than or equal to n.\n",
        "    \"\"\"\n",
        "    if not isinstance(s, set):  # Check if the input is a set\n",
        "        raise TypeError(\"Input must be a set\")\n",
        "    return {x for x in s if x >= n}  # Return a set of elements greater than or equal to n\n",
        "\n",
        "# Test the function\n",
        "s = {1, 2, 3, 4, 5}\n",
        "n = 3\n",
        "print(greater_than_n(s, n))  "
      ],
      "metadata": {
        "colab": {
          "base_uri": "https://localhost:8080/"
        },
        "id": "fdzclH8N2sUM",
        "outputId": "8d415ca7-59d9-4e91-c3ed-c22fa6387f36"
      },
      "execution_count": null,
      "outputs": [
        {
          "output_type": "stream",
          "name": "stdout",
          "text": [
            "{3, 4, 5}\n"
          ]
        }
      ]
    },
    {
      "cell_type": "markdown",
      "source": [
        "**TOPIC 11)Tuple**"
      ],
      "metadata": {
        "id": "ZP1UJnJS24Wv"
      }
    },
    {
      "cell_type": "markdown",
      "source": [
        "1)Write a Python function that takes a tuple of numbers as input and returns the sum of all even numbers in the tuple."
      ],
      "metadata": {
        "id": "cH8XKqBR29nz"
      }
    },
    {
      "cell_type": "code",
      "source": [
        "def sum_even_numbers(tuple_numbers):\n",
        "    \"\"\"\n",
        "    This function takes a tuple of numbers as input and returns the sum of all even numbers in the tuple.\n",
        "    \"\"\"\n",
        "    # Initialize a variable to hold the sum\n",
        "    sum_of_even_numbers = 0\n",
        "\n",
        "    # Loop through each number in the tuple\n",
        "    for number in tuple_numbers:\n",
        "        # Check if the number is even\n",
        "        if number % 2 == 0:\n",
        "            # Add the number to the sum\n",
        "            sum_of_even_numbers += number\n",
        "\n",
        "    return sum_of_even_numbers\n",
        "\n",
        "# Test the function\n",
        "print(sum_even_numbers((1, 2, 3, 4, 5, 6, 7, 8, 9, 10)))  \n",
        "print(sum_even_numbers((2, 4, 6, 8, 10)))  \n",
        "print(sum_even_numbers((1, 3, 5, 7, 9)))  \n"
      ],
      "metadata": {
        "colab": {
          "base_uri": "https://localhost:8080/"
        },
        "id": "zxqMvyAl3L0l",
        "outputId": "d11bb684-0b7b-4237-cc09-91a6f9b1b651"
      },
      "execution_count": null,
      "outputs": [
        {
          "output_type": "stream",
          "name": "stdout",
          "text": [
            "30\n",
            "30\n",
            "0\n"
          ]
        }
      ]
    },
    {
      "cell_type": "markdown",
      "source": [
        "2)Write a Python function that takes two tuples as input and returns a new tuple that contains only the elements that are common in both tuples."
      ],
      "metadata": {
        "id": "71GismTN3VN-"
      }
    },
    {
      "cell_type": "code",
      "source": [
        "def common_elements(tuple1, tuple2):\n",
        "    \"\"\"\n",
        "    This function takes two tuples as input and returns a new tuple that contains only the elements that are common in both tuples.\n",
        "    \"\"\"\n",
        "    # Initialize an empty list to hold the common elements\n",
        "    common_elements_list = []\n",
        "\n",
        "    # Loop through each element in tuple1\n",
        "    for element in tuple1:\n",
        "        # Check if the element is in tuple2\n",
        "        if element in tuple2:\n",
        "            # Append the element to the common_elements_list\n",
        "            common_elements_list.append(element)\n",
        "\n",
        "    # Convert the common_elements_list to a tuple and return it\n",
        "    return tuple(common_elements_list)\n",
        "\n",
        "# Test the function\n",
        "print(common_elements((1, 2, 3), (2, 3, 4)))  \n",
        "print(common_elements(('a', 'b', 'c'), ('b', 'c', 'd')))  \n",
        "print(common_elements((1, 2, 3), (4, 5, 6)))  \n"
      ],
      "metadata": {
        "colab": {
          "base_uri": "https://localhost:8080/"
        },
        "id": "3AuzzZGg3XqS",
        "outputId": "f1169a23-a0e5-4475-af7e-4eb9c8dfe28e"
      },
      "execution_count": null,
      "outputs": [
        {
          "output_type": "stream",
          "name": "stdout",
          "text": [
            "(2, 3)\n",
            "('b', 'c')\n",
            "()\n"
          ]
        }
      ]
    },
    {
      "cell_type": "markdown",
      "source": [
        "3)Write a Python function that takes a tuple of strings as input and returns a new tuple of strings where each string has been capitalized."
      ],
      "metadata": {
        "id": "XjD_0rsy3aQM"
      }
    },
    {
      "cell_type": "code",
      "source": [
        "def capitalize_strings(tuple_of_strings):\n",
        "    \"\"\"\n",
        "    This function takes a tuple of strings as input and returns a new tuple of strings where each string has been capitalized.\n",
        "    \"\"\"\n",
        "    # Initialize an empty list to hold the capitalized strings\n",
        "    capitalized_strings_list = []\n",
        "\n",
        "    # Loop through each string in the tuple\n",
        "    for string in tuple_of_strings:\n",
        "        # Capitalize the string and append it to the capitalized_strings_list\n",
        "        capitalized_strings_list.append(string.capitalize())\n",
        "\n",
        "    # Convert the capitalized_strings_list to a tuple and return it\n",
        "    return tuple(capitalized_strings_list)\n",
        "\n",
        "# Test the function\n",
        "print(capitalize_strings(('hello', 'world')))  \n",
        "print(capitalize_strings(('a', 'b', 'c')))  \n",
        "print(capitalize_strings(('python', 'programming')))  \n"
      ],
      "metadata": {
        "colab": {
          "base_uri": "https://localhost:8080/"
        },
        "id": "IFsaLYi53d7p",
        "outputId": "efd9fd26-f208-4783-aac4-1b636187de70"
      },
      "execution_count": null,
      "outputs": [
        {
          "output_type": "stream",
          "name": "stdout",
          "text": [
            "('Hello', 'World')\n",
            "('A', 'B', 'C')\n",
            "('Python', 'Programming')\n"
          ]
        }
      ]
    },
    {
      "cell_type": "markdown",
      "source": [
        "**TOPIC 12)Files**"
      ],
      "metadata": {
        "id": "QDEF7fO_3o2r"
      }
    },
    {
      "cell_type": "markdown",
      "source": [
        "1)Write a Python program to read a file and print the number of words, lines, and characters in the file."
      ],
      "metadata": {
        "id": "VNcjh_-F_g63"
      }
    },
    {
      "cell_type": "code",
      "source": [
        "filename = input(\"Enter the file name: \")\n",
        "\n",
        "with open(filename, 'r') as f:\n",
        "    num_words = 0\n",
        "    num_lines = 0\n",
        "    num_chars = 0\n",
        "    for line in f:\n",
        "        words = line.split()\n",
        "        num_words += len(words)\n",
        "        num_lines += 1\n",
        "        num_chars += len(line)\n",
        "    print(\"Number of words:\", num_words)\n",
        "    print(\"Number of lines:\", num_lines)\n",
        "    print(\"Number of characters:\", num_chars)\n"
      ],
      "metadata": {
        "colab": {
          "base_uri": "https://localhost:8080/"
        },
        "id": "Qppcubyz_oux",
        "outputId": "2f8fabf9-c117-4cb5-99f6-89639d847748"
      },
      "execution_count": 2,
      "outputs": [
        {
          "output_type": "stream",
          "name": "stdout",
          "text": [
            "Enter the file name: /content/drive/MyDrive/extracredits file/input1.txt\n",
            "Number of words: 6\n",
            "Number of lines: 6\n",
            "Number of characters: 31\n"
          ]
        }
      ]
    },
    {
      "cell_type": "markdown",
      "source": [
        "2)Write a python program to read the file, count the number of times each name appears in the file, and print the name and count to the console.\n",
        "\n"
      ],
      "metadata": {
        "id": "2DrhrTBYAq8S"
      }
    },
    {
      "cell_type": "code",
      "source": [
        "filename = input(\"Enter the file name: \")\n",
        "\n",
        "try:\n",
        "    with open(filename, 'r') as f:\n",
        "        names = f.read().splitlines()\n",
        "        counts = {}\n",
        "        for name in names:\n",
        "            counts[name] = counts.get(name, 0) + 1\n",
        "        for name, count in counts.items():\n",
        "            print(name + \": \" + str(count))\n",
        "except FileNotFoundError:\n",
        "    print(\"File not found.\")\n"
      ],
      "metadata": {
        "colab": {
          "base_uri": "https://localhost:8080/"
        },
        "id": "iUZmCejCA3Vw",
        "outputId": "6cf3db2e-2782-4319-eeb5-7978be24be96"
      },
      "execution_count": 5,
      "outputs": [
        {
          "output_type": "stream",
          "name": "stdout",
          "text": [
            "Enter the file name: /content/drive/MyDrive/extracredits file/input2.txt\n",
            "Alice: 3\n",
            "Bob: 2\n",
            "Charlie: 1\n",
            "David: 1\n",
            "Eve: 1\n"
          ]
        }
      ]
    },
    {
      "cell_type": "markdown",
      "source": [
        "3)Write a python program to read the file, find the minimum and maximum values in the file, and print them to the console."
      ],
      "metadata": {
        "id": "bN3C6T3uBZJ6"
      }
    },
    {
      "cell_type": "code",
      "source": [
        "filename = input(\"Enter the file name: \")\n",
        "\n",
        "try:\n",
        "    with open(filename, 'r') as f:\n",
        "        numbers = list(map(int, f.read().split()))\n",
        "        min_val = min(numbers)\n",
        "        max_val = max(numbers)\n",
        "        print(\"Minimum value:\", min_val)\n",
        "        print(\"Maximum value:\", max_val)\n",
        "except FileNotFoundError:\n",
        "    print(\"File not found.\")\n",
        "except ValueError:\n",
        "    print(\"Invalid input in file.\")\n"
      ],
      "metadata": {
        "colab": {
          "base_uri": "https://localhost:8080/"
        },
        "id": "eUWtUUYWBc5g",
        "outputId": "2957726e-fbd6-427b-b2be-4bff637d6eb9"
      },
      "execution_count": 4,
      "outputs": [
        {
          "output_type": "stream",
          "name": "stdout",
          "text": [
            "Enter the file name: /content/drive/MyDrive/extracredits file/input3.txt\n",
            "Minimum value: 3\n",
            "Maximum value: 100\n"
          ]
        }
      ]
    },
    {
      "cell_type": "markdown",
      "source": [
        "**Topic 13)Inheritance**"
      ],
      "metadata": {
        "id": "cb1ZRvMI54yf"
      }
    },
    {
      "cell_type": "markdown",
      "source": [
        "1)Create a class called \"Person\" with two attributes: \"name\" and \"age\". Then, create a class called \"Student\" that inherits from \"Person\" and adds a new attribute \"grade\". Finally, create an object of type \"Student\" and print out its attributes."
      ],
      "metadata": {
        "id": "N574Y2_C58RJ"
      }
    },
    {
      "cell_type": "code",
      "source": [
        "# Define a class called Person\n",
        "class Person:\n",
        "    def __init__(self, name, age):\n",
        "        self.name = name\n",
        "        self.age = age\n",
        "\n",
        "# Define a class called Student that inherits from Person\n",
        "class Student(Person):\n",
        "    def __init__(self, name, age, grade):\n",
        "        super().__init__(name, age)\n",
        "        self.grade = grade\n",
        "\n",
        "# Create an object of type Student and print its attributes\n",
        "s = Student(\"John\", 18, \"A\")\n",
        "print(f\"Name: {s.name}, Age: {s.age}, Grade: {s.grade}\")\n"
      ],
      "metadata": {
        "colab": {
          "base_uri": "https://localhost:8080/"
        },
        "id": "reJlNlpz6PAy",
        "outputId": "4c5b3d56-2dda-4e08-e687-f995e0928636"
      },
      "execution_count": null,
      "outputs": [
        {
          "output_type": "stream",
          "name": "stdout",
          "text": [
            "Name: John, Age: 18, Grade: A\n"
          ]
        }
      ]
    },
    {
      "cell_type": "markdown",
      "source": [
        "2)Create a class called \"Vehicle\" with two attributes: \"make\" and \"model\". Then, create two classes called \"Car\" and \"Truck\" that inherit from \"Vehicle\" and add new attributes \"num_doors\" and \"payload_capacity\" respectively. Finally, create objects of type \"Car\" and \"Truck\" and print out their attributes.\n",
        "\n"
      ],
      "metadata": {
        "id": "FPAYb2Qd6iDN"
      }
    },
    {
      "cell_type": "code",
      "source": [
        "# Define a class called Vehicle\n",
        "class Vehicle:\n",
        "    def __init__(self, make, model):\n",
        "        self.make = make\n",
        "        self.model = model\n",
        "\n",
        "# Define a class called Car that inherits from Vehicle\n",
        "class Car(Vehicle):\n",
        "    def __init__(self, make, model, num_doors):\n",
        "        super().__init__(make, model)\n",
        "        self.num_doors = num_doors\n",
        "\n",
        "# Define a class called Truck that inherits from Vehicle\n",
        "class Truck(Vehicle):\n",
        "    def __init__(self, make, model, payload_capacity):\n",
        "        super().__init__(make, model)\n",
        "        self.payload_capacity = payload_capacity\n",
        "\n",
        "# Create objects of type Car and Truck and print their attributes\n",
        "c = Car(\"Honda\", \"Civic\", 4)\n",
        "t = Truck(\"Ford\", \"F-150\", 2000)\n",
        "print(f\"Car - Make: {c.make}, Model: {c.model}, Num Doors: {c.num_doors}\")\n",
        "print(f\"Truck - Make: {t.make}, Model: {t.model}, Payload Capacity: {t.payload_capacity}\")\n"
      ],
      "metadata": {
        "colab": {
          "base_uri": "https://localhost:8080/"
        },
        "id": "fRc0cY3Z6mOw",
        "outputId": "dcf23659-754b-43d4-aa60-c8ed82df129f"
      },
      "execution_count": null,
      "outputs": [
        {
          "output_type": "stream",
          "name": "stdout",
          "text": [
            "Car - Make: Honda, Model: Civic, Num Doors: 4\n",
            "Truck - Make: Ford, Model: F-150, Payload Capacity: 2000\n"
          ]
        }
      ]
    },
    {
      "cell_type": "markdown",
      "source": [
        "3)Create a class called \"Animal\" with a method called \"speak\". Then, create two classes called \"Dog\" and \"Cat\" that inherit from \"Animal\" and override the \"speak\" method to return \"bark\" and \"meow\" respectively. Finally, create objects of type \"Dog\" and \"Cat\" and call their \"speak\" methods."
      ],
      "metadata": {
        "id": "nKZ4fIX-6pBA"
      }
    },
    {
      "cell_type": "code",
      "source": [
        "# Define a class called Animal with a speak method\n",
        "class Animal:\n",
        "    def speak(self):\n",
        "        pass\n",
        "\n",
        "# Define a class called Dog that inherits from Animal\n",
        "class Dog(Animal):\n",
        "    def speak(self):\n",
        "        return \"bark\"\n",
        "\n",
        "# Define a class called Cat that inherits from Animal\n",
        "class Cat(Animal):\n",
        "    def speak(self):\n",
        "        return \"meow\"\n",
        "\n",
        "# Create objects of type Dog and Cat and call their speak methods\n",
        "d = Dog()\n",
        "c = Cat()\n",
        "print(f\"Dog says: {d.speak()}\")\n",
        "print(f\"Cat says: {c.speak()}\")\n"
      ],
      "metadata": {
        "colab": {
          "base_uri": "https://localhost:8080/"
        },
        "id": "CtVW0zmJ6rlG",
        "outputId": "2b88c547-e8e9-4715-e521-4a1cb8052300"
      },
      "execution_count": null,
      "outputs": [
        {
          "output_type": "stream",
          "name": "stdout",
          "text": [
            "Dog says: bark\n",
            "Cat says: meow\n"
          ]
        }
      ]
    },
    {
      "cell_type": "markdown",
      "source": [
        "**TOPIC 14)Encapsulation**"
      ],
      "metadata": {
        "id": "QGmYyXgE6xOT"
      }
    },
    {
      "cell_type": "markdown",
      "source": [
        "1)Create a class named \"Person\" with two private attributes: \"name\" and \"age\". Encapsulate these attributes and provide a method named \"get_info\" that returns a string that contains the name and age of the person."
      ],
      "metadata": {
        "id": "HDEbNzPo63hu"
      }
    },
    {
      "cell_type": "code",
      "source": [
        "class Person:\n",
        "    def __init__(self, name: str, age: int):\n",
        "        self.__name = name\n",
        "        self.__age = age\n",
        "    \n",
        "    def get_info(self):\n",
        "        return f\"Name: {self.__name}, Age: {self.__age}\"\n",
        "\n",
        "person = Person(\"John\", 25)\n",
        "print(person.get_info()) \n"
      ],
      "metadata": {
        "colab": {
          "base_uri": "https://localhost:8080/"
        },
        "id": "-BAcHJzM7H-Y",
        "outputId": "040a0694-af7c-4d72-8c85-e8c62c6fb6ae"
      },
      "execution_count": null,
      "outputs": [
        {
          "output_type": "stream",
          "name": "stdout",
          "text": [
            "Name: John, Age: 25\n"
          ]
        }
      ]
    },
    {
      "cell_type": "markdown",
      "source": [
        "2)Create a class named \"BankAccount\" with a private attribute \"balance\". Encapsulate this attribute and provide methods named \"deposit\" and \"withdraw\" that update the balance accordingly. The \"withdraw\" method should also check if the balance is sufficient for the withdrawal."
      ],
      "metadata": {
        "id": "775kCuCE7Kqz"
      }
    },
    {
      "cell_type": "code",
      "source": [
        "class BankAccount:\n",
        "    def __init__(self, balance: float):\n",
        "        self.__balance = balance\n",
        "    \n",
        "    def deposit(self, amount: float):\n",
        "        self.__balance += amount\n",
        "    \n",
        "    def withdraw(self, amount: float):\n",
        "        if amount > self.__balance:\n",
        "            return \"Insufficient balance\"\n",
        "        else:\n",
        "            self.__balance -= amount\n",
        "    \n",
        "    def get_balance(self):\n",
        "        return self.__balance\n",
        "\n",
        "account = BankAccount(1000)\n",
        "account.deposit(500)\n",
        "account.withdraw(200)\n",
        "print(account.get_balance()) \n",
        "print(account.withdraw(2000)) \n"
      ],
      "metadata": {
        "colab": {
          "base_uri": "https://localhost:8080/"
        },
        "id": "Eiothb0U7Nhd",
        "outputId": "6c28bfc0-51eb-447d-af10-591ae489a2f7"
      },
      "execution_count": null,
      "outputs": [
        {
          "output_type": "stream",
          "name": "stdout",
          "text": [
            "1300\n",
            "Insufficient balance\n"
          ]
        }
      ]
    },
    {
      "cell_type": "markdown",
      "source": [
        "3)Create a class named \"Rectangle\" with private attributes \"width\" and \"height\". Encapsulate these attributes and provide methods named \"set_width\", \"set_height\", \"get_area\", and \"get_perimeter\" that update and retrieve the properties of the rectangle."
      ],
      "metadata": {
        "id": "yq-EmhlN7RJL"
      }
    },
    {
      "cell_type": "code",
      "source": [
        "class Rectangle:\n",
        "    def __init__(self, width: float, height: float):\n",
        "        self.__width = width\n",
        "        self.__height = height\n",
        "    \n",
        "    def set_width(self, width: float):\n",
        "        self.__width = width\n",
        "    \n",
        "    def set_height(self, height: float):\n",
        "        self.__height = height\n",
        "    \n",
        "    def get_area(self):\n",
        "        return self.__width * self.__height\n",
        "    \n",
        "    def get_perimeter(self):\n",
        "        return 2 * (self.__width + self.__height)\n",
        "\n",
        "rect = Rectangle(10, 5)\n",
        "rect.set_width(20)\n",
        "rect.set_height(10)\n",
        "print(rect.get_area()) \n",
        "print(rect.get_perimeter()) \n"
      ],
      "metadata": {
        "colab": {
          "base_uri": "https://localhost:8080/"
        },
        "id": "xVvz0JrO7T2_",
        "outputId": "155563e2-03ed-4da3-b9a0-b4471b955664"
      },
      "execution_count": null,
      "outputs": [
        {
          "output_type": "stream",
          "name": "stdout",
          "text": [
            "200\n",
            "60\n"
          ]
        }
      ]
    },
    {
      "cell_type": "markdown",
      "source": [
        "**TOPIC 15)Polymorphism**"
      ],
      "metadata": {
        "id": "lB0JpkUh7n-Y"
      }
    },
    {
      "cell_type": "markdown",
      "source": [
        "1)Create a class called Shape that has a method called area(). Create two more classes called Rectangle and Triangle, which implement the area() method to compute the area of the rectangle and triangle respectively. Write a program that creates objects of each of these classes and prints out their area."
      ],
      "metadata": {
        "id": "6N8XaJpR7vCa"
      }
    },
    {
      "cell_type": "code",
      "source": [
        "# Define the Shape class\n",
        "class Shape:\n",
        "    def area(self):\n",
        "        pass\n",
        "\n",
        "# Define the Rectangle class\n",
        "class Rectangle(Shape):\n",
        "    def __init__(self, length, width):\n",
        "        self.length = length\n",
        "        self.width = width\n",
        "\n",
        "    # Implement the area method for Rectangle\n",
        "    def area(self):\n",
        "        return self.length * self.width\n",
        "\n",
        "# Define the Triangle class\n",
        "class Triangle(Shape):\n",
        "    def __init__(self, base, height):\n",
        "        self.base = base\n",
        "        self.height = height\n",
        "\n",
        "    # Implement the area method for Triangle\n",
        "    def area(self):\n",
        "        return 0.5 * self.base * self.height\n",
        "\n",
        "# Create objects of each class and print out their area\n",
        "r = Rectangle(5, 10)\n",
        "print(\"Area of rectangle:\", r.area())\n",
        "\n",
        "t = Triangle(4, 6)\n",
        "print(\"Area of triangle:\", t.area())\n"
      ],
      "metadata": {
        "colab": {
          "base_uri": "https://localhost:8080/"
        },
        "id": "GLwJ0ILY8lN-",
        "outputId": "6ddfb1f3-a08a-4f8d-f691-2705e49dd381"
      },
      "execution_count": null,
      "outputs": [
        {
          "output_type": "stream",
          "name": "stdout",
          "text": [
            "Area of rectangle: 50\n",
            "Area of triangle: 12.0\n"
          ]
        }
      ]
    },
    {
      "cell_type": "markdown",
      "source": [
        "2)Create a class called Animal with a method called speak(). Create two more classes called Dog and Cat, which inherit from the Animal class and override the speak() method to print out \"Woof\" and \"Meow\" respectively. Write a program that creates objects of each of these classes and calls their speak() method."
      ],
      "metadata": {
        "id": "H8qdmsk38ssX"
      }
    },
    {
      "cell_type": "code",
      "source": [
        "# Define the Animal class\n",
        "class Animal:\n",
        "    def speak(self):\n",
        "        pass\n",
        "\n",
        "# Define the Dog class\n",
        "class Dog(Animal):\n",
        "    def speak(self):\n",
        "        print(\"Woof\")\n",
        "\n",
        "# Define the Cat class\n",
        "class Cat(Animal):\n",
        "    def speak(self):\n",
        "        print(\"Meow\")\n",
        "\n",
        "# Create objects of each class and call their speak method\n",
        "d = Dog()\n",
        "d.speak()\n",
        "\n",
        "c = Cat()\n",
        "c.speak()\n"
      ],
      "metadata": {
        "colab": {
          "base_uri": "https://localhost:8080/"
        },
        "id": "PSh2aIBj8wsj",
        "outputId": "37c19cc7-b50c-459a-8953-17e543700535"
      },
      "execution_count": null,
      "outputs": [
        {
          "output_type": "stream",
          "name": "stdout",
          "text": [
            "Woof\n",
            "Meow\n"
          ]
        }
      ]
    },
    {
      "cell_type": "markdown",
      "source": [
        "3)Create a class called Shape with a method called draw(). Create two more classes called Rectangle and Triangle, which inherit from the Shape class and override the draw() method to print out \"Drawing a rectangle\" and \"Drawing a triangle\" respectively. Write a program that creates objects of each of these classes and calls their draw() method."
      ],
      "metadata": {
        "id": "N6o7vFmL81rZ"
      }
    },
    {
      "cell_type": "code",
      "source": [
        "# Define the Shape class\n",
        "class Shape:\n",
        "    def draw(self):\n",
        "        pass\n",
        "\n",
        "# Define the Rectangle class\n",
        "class Rectangle(Shape):\n",
        "    def draw(self):\n",
        "        print(\"Drawing a rectangle\")\n",
        "\n",
        "# Define the Triangle class\n",
        "class Triangle(Shape):\n",
        "    def draw(self):\n",
        "        print(\"Drawing a triangle\")\n",
        "\n",
        "# Create objects of each class and call their draw method\n",
        "r = Rectangle()\n",
        "r.draw()\n",
        "\n",
        "t = Triangle()\n",
        "t.draw()\n"
      ],
      "metadata": {
        "colab": {
          "base_uri": "https://localhost:8080/"
        },
        "id": "a4laNsu3850m",
        "outputId": "adf5e16c-69d5-408e-dee7-1ecab9c41d28"
      },
      "execution_count": null,
      "outputs": [
        {
          "output_type": "stream",
          "name": "stdout",
          "text": [
            "Drawing a rectangle\n",
            "Drawing a triangle\n"
          ]
        }
      ]
    },
    {
      "cell_type": "markdown",
      "source": [
        "**TOPIC 16)Abstraction**"
      ],
      "metadata": {
        "id": "_h522EEc9NgG"
      }
    },
    {
      "cell_type": "markdown",
      "source": [
        "1)Write a Python function that takes a list of integers as input and returns the average of all the even numbers in the list. If there are no even numbers in the list, the function should return None."
      ],
      "metadata": {
        "id": "_Gg8UA-k9kfX"
      }
    },
    {
      "cell_type": "code",
      "source": [
        "def average_even_numbers(numbers):\n",
        "    even_numbers = [n for n in numbers if n % 2 == 0] # List comprehension to get all even numbers\n",
        "    if not even_numbers: # Check if even_numbers is empty\n",
        "        return None\n",
        "    else:\n",
        "        return sum(even_numbers) / len(even_numbers) # Calculate average\n",
        "\n",
        "# Testing with the examples given\n",
        "print(average_even_numbers([1, 2, 3, 4, 5])) \n",
        "print(average_even_numbers([1, 3, 5])) \n"
      ],
      "metadata": {
        "colab": {
          "base_uri": "https://localhost:8080/"
        },
        "id": "5wlRjQng9ny2",
        "outputId": "0977ec8c-9cbb-414b-d454-4f9824002f89"
      },
      "execution_count": null,
      "outputs": [
        {
          "output_type": "stream",
          "name": "stdout",
          "text": [
            "3.0\n",
            "None\n"
          ]
        }
      ]
    },
    {
      "cell_type": "markdown",
      "source": [
        "2)Write a Python class called \"Rectangle\" that has attributes length and width, and methods get_area and get_perimeter. The methods should calculate the area and perimeter of the rectangle based on the length and width."
      ],
      "metadata": {
        "id": "EQlkOSnI-mMC"
      }
    },
    {
      "cell_type": "code",
      "source": [
        "class Rectangle:\n",
        "    def __init__(self, length, width):\n",
        "        self.length = length\n",
        "        self.width = width\n",
        "    \n",
        "    def get_area(self):\n",
        "        return self.length * self.width\n",
        "    \n",
        "    def get_perimeter(self):\n",
        "        return 2 * (self.length + self.width)\n",
        "\n",
        "# Testing with the examples given\n",
        "r = Rectangle(4, 3)\n",
        "print(\"Area:\", r.get_area()) \n",
        "print(\"Perimeter:\", r.get_perimeter()) "
      ],
      "metadata": {
        "colab": {
          "base_uri": "https://localhost:8080/"
        },
        "id": "cdW-xiUn-niO",
        "outputId": "0c84950d-3b7c-4051-d0ec-f68da1178e5f"
      },
      "execution_count": null,
      "outputs": [
        {
          "output_type": "stream",
          "name": "stdout",
          "text": [
            "Area: 12\n",
            "Perimeter: 14\n"
          ]
        }
      ]
    },
    {
      "cell_type": "markdown",
      "source": [
        "3)Write a Python function that takes a string as input and returns a new string that contains only the consonants of the original string. The new string should have all characters in lowercase. If there are no consonants in the original string, the function should return an empty string."
      ],
      "metadata": {
        "id": "jWMJEq5Z-te-"
      }
    },
    {
      "cell_type": "code",
      "source": [
        "def consonants_only(string):\n",
        "    vowels = ['a', 'e', 'i', 'o', 'u']\n",
        "    result = ''\n",
        "    for letter in string.lower():\n",
        "        if letter.isalpha() and letter not in vowels: # Check if letter is a consonant\n",
        "            result += letter\n",
        "    return result\n",
        "\n",
        "# Testing with the examples given\n",
        "print(consonants_only(\"Hello World!\")) \n",
        "print(consonants_only(\"aeiou\")) \n"
      ],
      "metadata": {
        "colab": {
          "base_uri": "https://localhost:8080/"
        },
        "id": "GPIV5A9S-wgg",
        "outputId": "0232b87d-e73b-4cdc-b263-a3c45069a9ff"
      },
      "execution_count": null,
      "outputs": [
        {
          "output_type": "stream",
          "name": "stdout",
          "text": [
            "hllwrld\n",
            "\n"
          ]
        }
      ]
    }
  ]
}
